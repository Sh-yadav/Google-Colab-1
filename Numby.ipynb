{
  "nbformat": 4,
  "nbformat_minor": 0,
  "metadata": {
    "colab": {
      "name": "Numby.ipynb",
      "provenance": [],
      "collapsed_sections": [],
      "toc_visible": true,
      "authorship_tag": "ABX9TyMem2fIjMbBjknKav7iL39N",
      "include_colab_link": true
    },
    "kernelspec": {
      "name": "python3",
      "display_name": "Python 3"
    }
  },
  "cells": [
    {
      "cell_type": "markdown",
      "metadata": {
        "id": "view-in-github",
        "colab_type": "text"
      },
      "source": [
        "<a href=\"https://colab.research.google.com/github/Sh-yadav/Google-Colab-1/blob/master/Numby.ipynb\" target=\"_parent\"><img src=\"https://colab.research.google.com/assets/colab-badge.svg\" alt=\"Open In Colab\"/></a>"
      ]
    },
    {
      "cell_type": "code",
      "metadata": {
        "id": "xUWJ0OOGq6pF",
        "colab_type": "code",
        "colab": {}
      },
      "source": [
        "import numpy as np"
      ],
      "execution_count": null,
      "outputs": []
    },
    {
      "cell_type": "code",
      "metadata": {
        "id": "a0BphZrArB8I",
        "colab_type": "code",
        "colab": {
          "base_uri": "https://localhost:8080/",
          "height": 51
        },
        "outputId": "19cf45e7-08fe-41a1-c5bb-886b714ca586"
      },
      "source": [
        "\n",
        "np.ones((2,2), dtype= int)"
      ],
      "execution_count": null,
      "outputs": [
        {
          "output_type": "execute_result",
          "data": {
            "text/plain": [
              "array([[1, 1],\n",
              "       [1, 1]])"
            ]
          },
          "metadata": {
            "tags": []
          },
          "execution_count": 9
        }
      ]
    },
    {
      "cell_type": "code",
      "metadata": {
        "id": "jiTaj6LUyMa2",
        "colab_type": "code",
        "colab": {
          "base_uri": "https://localhost:8080/",
          "height": 34
        },
        "outputId": "62de2c20-ad08-4903-adf8-725ebefae997"
      },
      "source": [
        "a=np.array((3,3))\n",
        "b=np.reshape(a,(-1,2))\n",
        "b\n",
        "b.ndim"
      ],
      "execution_count": null,
      "outputs": [
        {
          "output_type": "execute_result",
          "data": {
            "text/plain": [
              "2"
            ]
          },
          "metadata": {
            "tags": []
          },
          "execution_count": 37
        }
      ]
    },
    {
      "cell_type": "code",
      "metadata": {
        "id": "WABivboS8fES",
        "colab_type": "code",
        "colab": {
          "base_uri": "https://localhost:8080/",
          "height": 34
        },
        "outputId": "233dce6e-e2f8-464d-82dc-c4fd0fc51d90"
      },
      "source": [
        "a=np.array((3,3))\n",
        "a.ndim"
      ],
      "execution_count": null,
      "outputs": [
        {
          "output_type": "execute_result",
          "data": {
            "text/plain": [
              "1"
            ]
          },
          "metadata": {
            "tags": []
          },
          "execution_count": 43
        }
      ]
    },
    {
      "cell_type": "code",
      "metadata": {
        "id": "g6jBD0Pj8fbW",
        "colab_type": "code",
        "colab": {
          "base_uri": "https://localhost:8080/",
          "height": 34
        },
        "outputId": "a5c7a30e-b7e4-4b00-b728-f0243bd36c21"
      },
      "source": [
        "a=np.zeros((3,3))\n",
        "a.ndim\n"
      ],
      "execution_count": null,
      "outputs": [
        {
          "output_type": "execute_result",
          "data": {
            "text/plain": [
              "2"
            ]
          },
          "metadata": {
            "tags": []
          },
          "execution_count": 46
        }
      ]
    },
    {
      "cell_type": "code",
      "metadata": {
        "id": "vLym_bWj0fSz",
        "colab_type": "code",
        "colab": {
          "base_uri": "https://localhost:8080/",
          "height": 68
        },
        "outputId": "4d2b9c9a-8e12-4734-fc5d-0453ab694ec3"
      },
      "source": [
        "a=np.zeros((3,3))\n",
        "a"
      ],
      "execution_count": null,
      "outputs": [
        {
          "output_type": "execute_result",
          "data": {
            "text/plain": [
              "array([[0., 0., 0.],\n",
              "       [0., 0., 0.],\n",
              "       [0., 0., 0.]])"
            ]
          },
          "metadata": {
            "tags": []
          },
          "execution_count": 47
        }
      ]
    },
    {
      "cell_type": "code",
      "metadata": {
        "id": "eKmV-fbq_ZmH",
        "colab_type": "code",
        "colab": {
          "base_uri": "https://localhost:8080/",
          "height": 136
        },
        "outputId": "a54ade41-a5bc-4038-a52f-aaf5f6140529"
      },
      "source": [
        "a=np.zeros((4,1,1))\n",
        "a"
      ],
      "execution_count": null,
      "outputs": [
        {
          "output_type": "execute_result",
          "data": {
            "text/plain": [
              "array([[[0.]],\n",
              "\n",
              "       [[0.]],\n",
              "\n",
              "       [[0.]],\n",
              "\n",
              "       [[0.]]])"
            ]
          },
          "metadata": {
            "tags": []
          },
          "execution_count": 75
        }
      ]
    },
    {
      "cell_type": "code",
      "metadata": {
        "id": "_tVM6xUM_cnX",
        "colab_type": "code",
        "colab": {
          "base_uri": "https://localhost:8080/",
          "height": 51
        },
        "outputId": "3fd180c6-bbd6-4a70-966c-7821f82e9922"
      },
      "source": [
        "np.full(( 2,2), \"Hello Python\", dtype=None)"
      ],
      "execution_count": null,
      "outputs": [
        {
          "output_type": "execute_result",
          "data": {
            "text/plain": [
              "array([['Hello Python', 'Hello Python'],\n",
              "       ['Hello Python', 'Hello Python']], dtype='<U12')"
            ]
          },
          "metadata": {
            "tags": []
          },
          "execution_count": 77
        }
      ]
    },
    {
      "cell_type": "code",
      "metadata": {
        "id": "BkmIc5LsIEp3",
        "colab_type": "code",
        "colab": {
          "base_uri": "https://localhost:8080/",
          "height": 34
        },
        "outputId": "a5a1604b-2c21-40f5-dd4f-7e3af63f90d1"
      },
      "source": [
        "np.random.rand(5)"
      ],
      "execution_count": null,
      "outputs": [
        {
          "output_type": "execute_result",
          "data": {
            "text/plain": [
              "array([0.87517673, 0.67938247, 0.4530088 , 0.87501821, 0.01686716])"
            ]
          },
          "metadata": {
            "tags": []
          },
          "execution_count": 79
        }
      ]
    },
    {
      "cell_type": "code",
      "metadata": {
        "id": "tsRRA6PNITcv",
        "colab_type": "code",
        "colab": {
          "base_uri": "https://localhost:8080/",
          "height": 187
        },
        "outputId": "8b4cd19d-3a09-4601-89c9-db7b35db9773"
      },
      "source": [
        "data=np.random.randint(5,10,( 10,10) )\n",
        "data"
      ],
      "execution_count": null,
      "outputs": [
        {
          "output_type": "execute_result",
          "data": {
            "text/plain": [
              "array([[8, 9, 5, 6, 6, 9, 7, 7, 9, 9],\n",
              "       [7, 8, 5, 9, 7, 7, 5, 8, 8, 6],\n",
              "       [7, 9, 7, 9, 5, 6, 7, 9, 8, 5],\n",
              "       [8, 5, 7, 9, 8, 8, 7, 9, 5, 9],\n",
              "       [7, 6, 8, 7, 9, 9, 5, 5, 6, 7],\n",
              "       [9, 7, 7, 9, 8, 8, 7, 7, 6, 5],\n",
              "       [6, 9, 8, 5, 5, 9, 5, 7, 6, 9],\n",
              "       [7, 6, 8, 5, 5, 7, 9, 5, 7, 7],\n",
              "       [9, 7, 8, 5, 8, 5, 9, 5, 9, 7],\n",
              "       [9, 5, 5, 9, 5, 6, 9, 8, 6, 6]])"
            ]
          },
          "metadata": {
            "tags": []
          },
          "execution_count": 85
        }
      ]
    },
    {
      "cell_type": "code",
      "metadata": {
        "id": "6MGVpRNnIp-e",
        "colab_type": "code",
        "colab": {
          "base_uri": "https://localhost:8080/",
          "height": 136
        },
        "outputId": "80a89f81-e3d5-428a-8869-0eb1c58a2991"
      },
      "source": [
        "data[1:8]"
      ],
      "execution_count": null,
      "outputs": [
        {
          "output_type": "execute_result",
          "data": {
            "text/plain": [
              "array([[7, 8, 5, 9, 7, 7, 5, 8, 8, 6],\n",
              "       [7, 9, 7, 9, 5, 6, 7, 9, 8, 5],\n",
              "       [8, 5, 7, 9, 8, 8, 7, 9, 5, 9],\n",
              "       [7, 6, 8, 7, 9, 9, 5, 5, 6, 7],\n",
              "       [9, 7, 7, 9, 8, 8, 7, 7, 6, 5],\n",
              "       [6, 9, 8, 5, 5, 9, 5, 7, 6, 9],\n",
              "       [7, 6, 8, 5, 5, 7, 9, 5, 7, 7]])"
            ]
          },
          "metadata": {
            "tags": []
          },
          "execution_count": 91
        }
      ]
    },
    {
      "cell_type": "code",
      "metadata": {
        "id": "Zd60aEeqJeX3",
        "colab_type": "code",
        "colab": {
          "base_uri": "https://localhost:8080/",
          "height": 34
        },
        "outputId": "d844582e-56ba-4cdc-d163-fdb4d2f28b6d"
      },
      "source": [
        "data[1:4,1]"
      ],
      "execution_count": null,
      "outputs": [
        {
          "output_type": "execute_result",
          "data": {
            "text/plain": [
              "array([8, 9, 5])"
            ]
          },
          "metadata": {
            "tags": []
          },
          "execution_count": 93
        }
      ]
    },
    {
      "cell_type": "code",
      "metadata": {
        "id": "Xv-s4c4OKOQ5",
        "colab_type": "code",
        "colab": {
          "base_uri": "https://localhost:8080/",
          "height": 68
        },
        "outputId": "29b79ee5-4ec7-4c6b-c7a7-6a6032b228db"
      },
      "source": [
        "data[1:4,1:5]"
      ],
      "execution_count": null,
      "outputs": [
        {
          "output_type": "execute_result",
          "data": {
            "text/plain": [
              "array([[8, 5, 9, 7],\n",
              "       [9, 7, 9, 5],\n",
              "       [5, 7, 9, 8]])"
            ]
          },
          "metadata": {
            "tags": []
          },
          "execution_count": 94
        }
      ]
    },
    {
      "cell_type": "code",
      "metadata": {
        "id": "n2sxfLKTLXqt",
        "colab_type": "code",
        "colab": {}
      },
      "source": [
        "data1=np.random.randint(5,15,size=(5,3))"
      ],
      "execution_count": null,
      "outputs": []
    },
    {
      "cell_type": "code",
      "metadata": {
        "id": "UPiCoEiqdK0N",
        "colab_type": "code",
        "colab": {
          "base_uri": "https://localhost:8080/",
          "height": 102
        },
        "outputId": "3c18c317-a02b-49e3-8450-d40ca6651c19"
      },
      "source": [
        "data1"
      ],
      "execution_count": null,
      "outputs": [
        {
          "output_type": "execute_result",
          "data": {
            "text/plain": [
              "array([[ 7,  8,  9],\n",
              "       [12,  5,  5],\n",
              "       [ 6, 14, 10],\n",
              "       [ 6, 10, 11],\n",
              "       [10, 14, 10]])"
            ]
          },
          "metadata": {
            "tags": []
          },
          "execution_count": 96
        }
      ]
    },
    {
      "cell_type": "code",
      "metadata": {
        "id": "PncY0JSRdOL_",
        "colab_type": "code",
        "colab": {
          "base_uri": "https://localhost:8080/",
          "height": 102
        },
        "outputId": "0e82d37e-3605-427f-dad9-da8dd7995122"
      },
      "source": [
        "data2=np.random.randint(5,15,size=(5,3))\n",
        "data2"
      ],
      "execution_count": null,
      "outputs": [
        {
          "output_type": "execute_result",
          "data": {
            "text/plain": [
              "array([[ 5, 12,  9],\n",
              "       [ 5, 13, 11],\n",
              "       [ 9, 12,  6],\n",
              "       [ 9,  8, 11],\n",
              "       [11,  7,  9]])"
            ]
          },
          "metadata": {
            "tags": []
          },
          "execution_count": 101
        }
      ]
    },
    {
      "cell_type": "code",
      "metadata": {
        "id": "4hcvjS1If3VH",
        "colab_type": "code",
        "colab": {
          "base_uri": "https://localhost:8080/",
          "height": 102
        },
        "outputId": "19f50541-93fb-4524-c6c1-cf387a89a92f"
      },
      "source": [
        "np.hstack([data1,data2] )"
      ],
      "execution_count": null,
      "outputs": [
        {
          "output_type": "execute_result",
          "data": {
            "text/plain": [
              "array([[10,  5, 12,  5, 12,  9],\n",
              "       [14,  9, 12,  5, 13, 11],\n",
              "       [11, 11,  5,  9, 12,  6],\n",
              "       [ 7, 12, 14,  9,  8, 11],\n",
              "       [11, 10, 14, 11,  7,  9]])"
            ]
          },
          "metadata": {
            "tags": []
          },
          "execution_count": 102
        }
      ]
    },
    {
      "cell_type": "code",
      "metadata": {
        "id": "4E_ZTQg6gCzk",
        "colab_type": "code",
        "colab": {
          "base_uri": "https://localhost:8080/",
          "height": 187
        },
        "outputId": "96b1436e-97b8-47c5-a479-71de93df4bb5"
      },
      "source": [
        "np.vstack([data1,data2] )"
      ],
      "execution_count": null,
      "outputs": [
        {
          "output_type": "execute_result",
          "data": {
            "text/plain": [
              "array([[10,  5, 12],\n",
              "       [14,  9, 12],\n",
              "       [11, 11,  5],\n",
              "       [ 7, 12, 14],\n",
              "       [11, 10, 14],\n",
              "       [ 5, 12,  9],\n",
              "       [ 5, 13, 11],\n",
              "       [ 9, 12,  6],\n",
              "       [ 9,  8, 11],\n",
              "       [11,  7,  9]])"
            ]
          },
          "metadata": {
            "tags": []
          },
          "execution_count": 103
        }
      ]
    },
    {
      "cell_type": "code",
      "metadata": {
        "id": "n7r7GjNhgaVH",
        "colab_type": "code",
        "colab": {
          "base_uri": "https://localhost:8080/",
          "height": 102
        },
        "outputId": "05e925b0-ffcf-4715-f79a-8cd0b061ccd0"
      },
      "source": [
        "np.concatenate([data1,data2],axis=1 )"
      ],
      "execution_count": null,
      "outputs": [
        {
          "output_type": "execute_result",
          "data": {
            "text/plain": [
              "array([[10,  5, 12,  5, 12,  9],\n",
              "       [14,  9, 12,  5, 13, 11],\n",
              "       [11, 11,  5,  9, 12,  6],\n",
              "       [ 7, 12, 14,  9,  8, 11],\n",
              "       [11, 10, 14, 11,  7,  9]])"
            ]
          },
          "metadata": {
            "tags": []
          },
          "execution_count": 104
        }
      ]
    },
    {
      "cell_type": "code",
      "metadata": {
        "id": "Q_Cy3sbmiJs2",
        "colab_type": "code",
        "colab": {
          "base_uri": "https://localhost:8080/",
          "height": 340
        },
        "outputId": "d3ddba2d-f4b9-41cc-95cb-86cb016fc47e"
      },
      "source": [
        "np.random.randint(5,15,size=(5,3,2 ) )"
      ],
      "execution_count": null,
      "outputs": [
        {
          "output_type": "execute_result",
          "data": {
            "text/plain": [
              "array([[[12, 12],\n",
              "        [13, 14],\n",
              "        [ 9,  8]],\n",
              "\n",
              "       [[10, 12],\n",
              "        [10,  5],\n",
              "        [12,  8]],\n",
              "\n",
              "       [[ 5, 13],\n",
              "        [14, 11],\n",
              "        [13,  9]],\n",
              "\n",
              "       [[ 5, 14],\n",
              "        [12,  6],\n",
              "        [ 6,  9]],\n",
              "\n",
              "       [[ 7,  5],\n",
              "        [10, 12],\n",
              "        [13,  7]]])"
            ]
          },
          "metadata": {
            "tags": []
          },
          "execution_count": 105
        }
      ]
    },
    {
      "cell_type": "code",
      "metadata": {
        "id": "q4h_N-jCj2sD",
        "colab_type": "code",
        "colab": {
          "base_uri": "https://localhost:8080/",
          "height": 340
        },
        "outputId": "e28b6d51-3b78-4a1d-a3de-35da1a8e975e"
      },
      "source": [
        "data2 = np.random.randint(5,15,size=(5,3,2))\n",
        "data2"
      ],
      "execution_count": null,
      "outputs": [
        {
          "output_type": "execute_result",
          "data": {
            "text/plain": [
              "array([[[ 8,  5],\n",
              "        [ 5,  8],\n",
              "        [10,  7]],\n",
              "\n",
              "       [[ 9, 11],\n",
              "        [11,  8],\n",
              "        [ 9, 10]],\n",
              "\n",
              "       [[11, 13],\n",
              "        [10, 11],\n",
              "        [ 6, 11]],\n",
              "\n",
              "       [[11,  6],\n",
              "        [10, 10],\n",
              "        [ 8, 12]],\n",
              "\n",
              "       [[ 9, 10],\n",
              "        [14,  6],\n",
              "        [12,  6]]])"
            ]
          },
          "metadata": {
            "tags": []
          },
          "execution_count": 106
        }
      ]
    },
    {
      "cell_type": "code",
      "metadata": {
        "id": "7KzeOMhpkFgi",
        "colab_type": "code",
        "colab": {
          "base_uri": "https://localhost:8080/",
          "height": 214
        },
        "outputId": "6c5b8b9a-d1f4-422f-830c-ba1ce3532175"
      },
      "source": [
        "np.concatenate([data1,data2])"
      ],
      "execution_count": null,
      "outputs": [
        {
          "output_type": "error",
          "ename": "ValueError",
          "evalue": "ignored",
          "traceback": [
            "\u001b[0;31m---------------------------------------------------------------------------\u001b[0m",
            "\u001b[0;31mValueError\u001b[0m                                Traceback (most recent call last)",
            "\u001b[0;32m<ipython-input-111-c60ab96fa5ea>\u001b[0m in \u001b[0;36m<module>\u001b[0;34m()\u001b[0m\n\u001b[0;32m----> 1\u001b[0;31m \u001b[0mnp\u001b[0m\u001b[0;34m.\u001b[0m\u001b[0mconcatenate\u001b[0m\u001b[0;34m(\u001b[0m\u001b[0;34m[\u001b[0m\u001b[0mdata1\u001b[0m\u001b[0;34m,\u001b[0m\u001b[0mdata2\u001b[0m\u001b[0;34m]\u001b[0m\u001b[0;34m)\u001b[0m\u001b[0;34m\u001b[0m\u001b[0;34m\u001b[0m\u001b[0m\n\u001b[0m",
            "\u001b[0;32m<__array_function__ internals>\u001b[0m in \u001b[0;36mconcatenate\u001b[0;34m(*args, **kwargs)\u001b[0m\n",
            "\u001b[0;31mValueError\u001b[0m: all the input arrays must have same number of dimensions, but the array at index 0 has 2 dimension(s) and the array at index 1 has 3 dimension(s)"
          ]
        }
      ]
    },
    {
      "cell_type": "code",
      "metadata": {
        "id": "h6JJkrbakTro",
        "colab_type": "code",
        "colab": {}
      },
      "source": [
        ""
      ],
      "execution_count": null,
      "outputs": []
    },
    {
      "cell_type": "markdown",
      "metadata": {
        "id": "ZVDF7-M9k96r",
        "colab_type": "text"
      },
      "source": [
        "splitting data is left\n",
        "broadcasting"
      ]
    },
    {
      "cell_type": "markdown",
      "metadata": {
        "id": "PwhYoB5cnJsL",
        "colab_type": "text"
      },
      "source": [
        "Content\n",
        "\n",
        "* array of one,zeros,1D,2D\n",
        "\n",
        "\n",
        "*   reshape of array\n",
        "full use\n",
        "random rand\n",
        "random randint\n",
        "addition\n",
        "vstack\n",
        "hstack\n",
        "\n",
        "\n",
        "\n",
        "*   List item\n",
        "\n"
      ]
    }
  ]
}